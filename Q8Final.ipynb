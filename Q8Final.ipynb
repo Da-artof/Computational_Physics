{
 "cells": [
  {
   "cell_type": "markdown",
   "metadata": {},
   "source": [
    "Before you turn this problem in, make sure everything runs as expected. First, **restart the kernel** (in the menubar, select Kernel$\\rightarrow$Restart) and then **run all cells** (in the menubar, select Cell$\\rightarrow$Run All).\n",
    "\n",
    "Make sure you fill in any place that says `YOUR CODE HERE` or \"YOUR ANSWER HERE\".\n",
    "\n",
    "Do not edit or insert code into the test cells as all you insert will be overwritten by the automated testing code."
   ]
  },
  {
   "cell_type": "markdown",
   "metadata": {},
   "source": [
    "---"
   ]
  },
  {
   "cell_type": "markdown",
   "metadata": {
    "deletable": false,
    "editable": false,
    "nbgrader": {
     "cell_type": "markdown",
     "checksum": "db688b313fa542c614b974ded16e38e4",
     "grade": false,
     "grade_id": "cell-672547ab8b0f5425",
     "locked": true,
     "schema_version": 3,
     "solution": false
    }
   },
   "source": [
    "**Question 8**: Consider a set of coupled first-order differential equations, typically called 'rate equations'. Let the two ODE's be $$\\frac{dy_{1}}{dt}=-k_{1}\\,y_{1}$$ and $$\\frac{dy_{2}}{dt}=k_{1}\\,y_{1} - k_{2}\\,y_{2}$$ where $k_{1,2}$ are rate constants. \n",
    "\n",
    "**Data**: Take $k_{1}=0.2$ s$^{-1}$ and $k_{2}=0.8$ s$^{-1}$. Initial conditions shall be $y_{1}(0)=100$ and $y_{2}(0)=0$. \n",
    "\n",
    "**Task**: Write a function `rateEqns(init, time, k1, k2)` with the array of initial conditions, the time array and the rate constants $k_{1}$ and $k_{2}$ as input. Let the function solve the rate equation ODE's and return the full `odeint` output.\n",
    "\n",
    "Plot the solutions (with different markers) with suitable axes labels, a legend and a title. Also include a plot of loss feed, i.e. $L(t) = y_{1}(0) - y_{1}(t) - y_{2}(t)$."
   ]
  },
  {
   "cell_type": "code",
   "execution_count": 4,
   "metadata": {
    "deletable": false,
    "nbgrader": {
     "cell_type": "code",
     "checksum": "5e4ac3493c29b29f9716dc9a2c360ac8",
     "grade": false,
     "grade_id": "Q8Code",
     "locked": false,
     "schema_version": 3,
     "solution": true
    }
   },
   "outputs": [
    {
     "data": {
      "image/png": "[encoded data removed]",
      "text/plain": [
       "<Figure size 432x288 with 1 Axes>"
      ]
     },
     "metadata": {
      "needs_background": "light"
     },
     "output_type": "display_data"
    },
    {
     "data": {
      "image/png": "[encoded data removed]",
      "text/plain": [
       "<Figure size 432x288 with 1 Axes>"
      ]
     },
     "metadata": {
      "needs_background": "light"
     },
     "output_type": "display_data"
    }
   ],
   "source": [
    "import numpy as np\n",
    "import matplotlib.pyplot as plt\n",
    "from scipy.integrate import odeint\n",
    "\n",
    "def coupled(y,t,k1,k2):\n",
    "    dy1 = -k1 * y[0]\n",
    "    dy2 = -dy1 - k2 * y[1]\n",
    "    return np.array([dy1,dy2])\n",
    "\n",
    "k1 = 0.2\n",
    "k2 = 0.8\n",
    "y10 = 100\n",
    "y20 = 0\n",
    "init = np.array([y10,y20])\n",
    "time = np.linspace(0, 20, 40)\n",
    "\n",
    "def rateEqns(init, time, k1, k2):\n",
    "    return odeint(coupled, init, time, args = (k1,k2))\n",
    "\n",
    "ans = rateEqns(init, time, k1, k2)\n",
    "y1t,y2t = np.hsplit(ans,2)\n",
    "plt.title(\"ODE solution\")\n",
    "plt.plot(time, y1t, label=\"y1(t)\")\n",
    "plt.plot(time, y2t, label=\"y2(t)\")\n",
    "plt.ylabel('y(t)', fontsize=12)\n",
    "plt.xlabel('t', fontsize=12)\n",
    "plt.legend()\n",
    "plt.show()\n",
    "\n",
    "Lt = y1t[0] - y1t - y2t\n",
    "plt.title(\"Loss feed\")\n",
    "plt.plot(time, Lt)\n",
    "plt.ylabel('L(t)', fontsize=12)\n",
    "plt.xlabel('t', fontsize=12)\n",
    "plt.show()"
   ]
  },
  {
   "cell_type": "code",
   "execution_count": 2,
   "metadata": {
    "deletable": false,
    "editable": false,
    "nbgrader": {
     "cell_type": "code",
     "checksum": "6a6bccd97b8e0526e2556f0220e4b714",
     "grade": true,
     "grade_id": "Q8TestA",
     "locked": true,
     "points": 2,
     "schema_version": 3,
     "solution": false
    }
   },
   "outputs": [],
   "source": [
    "# Test cell\n",
    "k1 = 0.2\n",
    "k2 = 0.8\n",
    "y10 = 100\n",
    "y20 = 0\n",
    "time = np.linspace(0, 20, 40)\n",
    "init = np.array([y10, y20])\n",
    "answer = rateEqns(init, time, k1, k2)\n",
    "# 1\n",
    "loss = y10 - answer[:,0] - answer[:,1]\n",
    "assert (loss[10]>52.0 and loss[10]<53.0), 'wrong loss value'"
   ]
  },
  {
   "cell_type": "code",
   "execution_count": 3,
   "metadata": {
    "deletable": false,
    "editable": false,
    "nbgrader": {
     "cell_type": "code",
     "checksum": "126f7c388335d4ab65af1cc824df2497",
     "grade": true,
     "grade_id": "Q8TestB",
     "locked": true,
     "points": 1,
     "schema_version": 3,
     "solution": false
    }
   },
   "outputs": [],
   "source": [
    "# Test cell\n",
    "assert (answer[1,0]>90.0 and answer[1,0]<90.4), 'wrong solution value'\n",
    "assert (answer[1,1]>7.9 and answer[1,1]<8.0), 'wrong solution value'"
   ]
  },
  {
   "cell_type": "markdown",
   "metadata": {
    "deletable": false,
    "editable": false,
    "nbgrader": {
     "cell_type": "markdown",
     "checksum": "6792f95b887a5fd5c2775ef2bdeb3cf2",
     "grade": false,
     "grade_id": "cell-9c0a6630fe5c7c8c",
     "locked": true,
     "schema_version": 3,
     "solution": false
    }
   },
   "source": [
    "### Tests 3 marks; Style 1 mark; Plot - 3 marks"
   ]
  }
 ],
 "metadata": {
  "kernelspec": {
   "display_name": "Python 3",
   "language": "python",
   "name": "python3"
  },
  "language_info": {
   "codemirror_mode": {
    "name": "ipython",
    "version": 3
   },
   "file_extension": ".py",
   "mimetype": "text/x-python",
   "name": "python",
   "nbconvert_exporter": "python",
   "pygments_lexer": "ipython3",
   "version": "3.8.3"
  }
 },
 "nbformat": 4,
 "nbformat_minor": 2
}
